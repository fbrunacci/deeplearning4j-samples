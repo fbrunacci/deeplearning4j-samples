{
 "cells": [
  {
   "cell_type": "code",
   "execution_count": 1,
   "metadata": {},
   "outputs": [],
   "source": [
    "%use krangl\n",
    "import org.apache.commons.csv.CSVFormat"
   ]
  },
  {
   "cell_type": "code",
   "execution_count": 15,
   "metadata": {},
   "outputs": [],
   "source": [
    "val workDir = \"/home/fabien/.deeplearning4j/data/ISIC_2020/Deotte\"\n",
    "\n",
    "data class IsicData(val image_name: String, \n",
    "                    val benign_malignant: String, \n",
    "                    val anatom_site_general_challenge: String, \n",
    "                    val sex: String, \n",
    "                    val age_approx: String, \n",
    "                    val target: Int)\n",
    "\n",
    "val columns = listOf(\"image_name\",\"anatom_site_general_challenge\",\"sex\", \"age_approx\",\"benign_malignant\",\"target\")\n",
    "\n",
    "fun readCSVToIrisDataFrame(fileOrUrl: String): DataFrame {\n",
    "    return DataFrame.readCSV(fileOrUrl).select(columns).rows.map {     \n",
    "        row -> IsicData(\n",
    "            row[\"image_name\"] as String, \n",
    "            row[\"benign_malignant\"] as String, \n",
    "            row[\"anatom_site_general_challenge\"] as String, \n",
    "            row[\"sex\"] as String, \n",
    "            row[\"age_approx\"].toString(), \n",
    "            row[\"target\"] as Int) \n",
    "    }.asDataFrame()\n",
    "}\n"
   ]
  },
  {
   "cell_type": "code",
   "execution_count": 16,
   "metadata": {},
   "outputs": [
    {
     "data": {
      "text/html": [
       "<html><body><table><tr><th style=\"text-align:left\">target</th><th style=\"text-align:left\">n</th></tr><tr><td style=\"text-align:left\" title=\"0\">0</td><td style=\"text-align:left\" title=\"20809\">20809</td></tr><tr><td style=\"text-align:left\" title=\"1\">1</td><td style=\"text-align:left\" title=\"4522\">4522</td></tr></table></body></html>"
      ]
     },
     "execution_count": 16,
     "metadata": {},
     "output_type": "execute_result"
    }
   ],
   "source": [
    "val df2019 : DataFrame = readCSVToIrisDataFrame(\"$workDir/cdeotte-isic2019-v4-512x512/train.csv\")\n",
    "df2019.groupBy(\"target\").count()"
   ]
  },
  {
   "cell_type": "code",
   "execution_count": 17,
   "metadata": {},
   "outputs": [
    {
     "data": {
      "text/html": [
       "<html><body><table><tr><th style=\"text-align:left\">age_approx</th><th style=\"text-align:left\">anatom_site_general_challenge</th><th style=\"text-align:left\">benign_malignant</th><th style=\"text-align:left\">image_name</th><th style=\"text-align:left\">sex</th><th style=\"text-align:left\">target</th></tr><tr><td style=\"text-align:left\" title=\"55.0\">55.0</td><td style=\"text-align:left\" title=\"anterior torso\">anterior torso</td><td style=\"text-align:left\" title=\"benign\">benign</td><td style=\"text-align:left\" title=\"ISIC_0000000\">ISIC_0000000</td><td style=\"text-align:left\" title=\"female\">female</td><td style=\"text-align:left\" title=\"0\">0</td></tr><tr><td style=\"text-align:left\" title=\"30.0\">30.0</td><td style=\"text-align:left\" title=\"anterior torso\">anterior torso</td><td style=\"text-align:left\" title=\"benign\">benign</td><td style=\"text-align:left\" title=\"ISIC_0000001\">ISIC_0000001</td><td style=\"text-align:left\" title=\"female\">female</td><td style=\"text-align:left\" title=\"0\">0</td></tr><tr><td style=\"text-align:left\" title=\"60.0\">60.0</td><td style=\"text-align:left\" title=\"upper extremity\">upper extremity</td><td style=\"text-align:left\" title=\"malignant\">malignant</td><td style=\"text-align:left\" title=\"ISIC_0000002\">ISIC_0000002</td><td style=\"text-align:left\" title=\"female\">female</td><td style=\"text-align:left\" title=\"1\">1</td></tr><tr><td style=\"text-align:left\" title=\"30.0\">30.0</td><td style=\"text-align:left\" title=\"upper extremity\">upper extremity</td><td style=\"text-align:left\" title=\"benign\">benign</td><td style=\"text-align:left\" title=\"ISIC_0000003\">ISIC_0000003</td><td style=\"text-align:left\" title=\"male\">male</td><td style=\"text-align:left\" title=\"0\">0</td></tr><tr><td style=\"text-align:left\" title=\"80.0\">80.0</td><td style=\"text-align:left\" title=\"posterior torso\">posterior torso</td><td style=\"text-align:left\" title=\"malignant\">malignant</td><td style=\"text-align:left\" title=\"ISIC_0000004\">ISIC_0000004</td><td style=\"text-align:left\" title=\"male\">male</td><td style=\"text-align:left\" title=\"1\">1</td></tr></table></body></html>"
      ]
     },
     "execution_count": 17,
     "metadata": {},
     "output_type": "execute_result"
    }
   ],
   "source": [
    "df2019.take(5)"
   ]
  },
  {
   "cell_type": "code",
   "execution_count": 18,
   "metadata": {},
   "outputs": [
    {
     "data": {
      "text/html": [
       "<html><body><table><tr><th style=\"text-align:left\">target</th><th style=\"text-align:left\">n</th></tr><tr><td style=\"text-align:left\" title=\"0\">0</td><td style=\"text-align:left\" title=\"32542\">32542</td></tr><tr><td style=\"text-align:left\" title=\"1\">1</td><td style=\"text-align:left\" title=\"584\">584</td></tr></table></body></html>"
      ]
     },
     "execution_count": 18,
     "metadata": {},
     "output_type": "execute_result"
    }
   ],
   "source": [
    "val df2020 : DataFrame = readCSVToIrisDataFrame(\"$workDir/cdeotte-isic2020-v3-512x512/train.csv\")\n",
    "df2020.groupBy(\"target\").count()"
   ]
  },
  {
   "cell_type": "code",
   "execution_count": 19,
   "metadata": {},
   "outputs": [
    {
     "data": {
      "text/html": [
       "<html><body><table><tr><th style=\"text-align:left\">age_approx</th><th style=\"text-align:left\">anatom_site_general_challenge</th><th style=\"text-align:left\">benign_malignant</th><th style=\"text-align:left\">image_name</th><th style=\"text-align:left\">sex</th><th style=\"text-align:left\">target</th></tr><tr><td style=\"text-align:left\" title=\"45.0\">45.0</td><td style=\"text-align:left\" title=\"head/neck\">head/neck</td><td style=\"text-align:left\" title=\"benign\">benign</td><td style=\"text-align:left\" title=\"ISIC_2637011\">ISIC_2637011</td><td style=\"text-align:left\" title=\"male\">male</td><td style=\"text-align:left\" title=\"0\">0</td></tr><tr><td style=\"text-align:left\" title=\"45.0\">45.0</td><td style=\"text-align:left\" title=\"upper extremity\">upper extremity</td><td style=\"text-align:left\" title=\"benign\">benign</td><td style=\"text-align:left\" title=\"ISIC_0015719\">ISIC_0015719</td><td style=\"text-align:left\" title=\"female\">female</td><td style=\"text-align:left\" title=\"0\">0</td></tr><tr><td style=\"text-align:left\" title=\"50.0\">50.0</td><td style=\"text-align:left\" title=\"lower extremity\">lower extremity</td><td style=\"text-align:left\" title=\"benign\">benign</td><td style=\"text-align:left\" title=\"ISIC_0052212\">ISIC_0052212</td><td style=\"text-align:left\" title=\"female\">female</td><td style=\"text-align:left\" title=\"0\">0</td></tr><tr><td style=\"text-align:left\" title=\"45.0\">45.0</td><td style=\"text-align:left\" title=\"head/neck\">head/neck</td><td style=\"text-align:left\" title=\"benign\">benign</td><td style=\"text-align:left\" title=\"ISIC_0068279\">ISIC_0068279</td><td style=\"text-align:left\" title=\"female\">female</td><td style=\"text-align:left\" title=\"0\">0</td></tr><tr><td style=\"text-align:left\" title=\"55.0\">55.0</td><td style=\"text-align:left\" title=\"upper extremity\">upper extremity</td><td style=\"text-align:left\" title=\"benign\">benign</td><td style=\"text-align:left\" title=\"ISIC_0074268\">ISIC_0074268</td><td style=\"text-align:left\" title=\"female\">female</td><td style=\"text-align:left\" title=\"0\">0</td></tr></table></body></html>"
      ]
     },
     "execution_count": 19,
     "metadata": {},
     "output_type": "execute_result"
    }
   ],
   "source": [
    "df2020.take(5)"
   ]
  },
  {
   "cell_type": "code",
   "execution_count": 27,
   "metadata": {},
   "outputs": [
    {
     "data": {
      "text/html": [
       "<html><body><table><tr><th style=\"text-align:left\">target</th><th style=\"text-align:left\">n</th></tr><tr><td style=\"text-align:left\" title=\"1\">1</td><td style=\"text-align:left\" title=\"3976\">3976</td></tr></table></body></html>"
      ]
     },
     "execution_count": 27,
     "metadata": {},
     "output_type": "execute_result"
    }
   ],
   "source": [
    "val dfMalignant1 : DataFrame = readCSVToIrisDataFrame(\"$workDir/malignant-v2-512x512/train_malig_1.csv\")\n",
    "val dfMalignant2 : DataFrame = readCSVToIrisDataFrame(\"$workDir/malignant-v2-512x512/train_malig_2.csv\")\n",
    "val dfMalignant3 : DataFrame = readCSVToIrisDataFrame(\"$workDir/malignant-v2-512x512/train_malig_3.csv\")\n",
    "val dfMalignant = bindRows(\n",
    "        dfMalignant1,\n",
    "        dfMalignant2,\n",
    "        dfMalignant3\n",
    ")\n",
    "dfMalignant.groupBy(\"target\").count()"
   ]
  },
  {
   "cell_type": "code",
   "execution_count": 28,
   "metadata": {},
   "outputs": [
    {
     "data": {
      "text/html": [
       "<html><body><table><tr><th style=\"text-align:left\">age_approx</th><th style=\"text-align:left\">anatom_site_general_challenge</th><th style=\"text-align:left\">benign_malignant</th><th style=\"text-align:left\">image_name</th><th style=\"text-align:left\">sex</th><th style=\"text-align:left\">target</th></tr><tr><td style=\"text-align:left\" title=\"55.0\">55.0</td><td style=\"text-align:left\" title=\"upper extremity\">upper extremity</td><td style=\"text-align:left\" title=\"malignant\">malignant</td><td style=\"text-align:left\" title=\"ISIC_0149568\">ISIC_0149568</td><td style=\"text-align:left\" title=\"female\">female</td><td style=\"text-align:left\" title=\"1\">1</td></tr><tr><td style=\"text-align:left\" title=\"50.0\">50.0</td><td style=\"text-align:left\" title=\"upper extremity\">upper extremity</td><td style=\"text-align:left\" title=\"malignant\">malignant</td><td style=\"text-align:left\" title=\"ISIC_0188432\">ISIC_0188432</td><td style=\"text-align:left\" title=\"female\">female</td><td style=\"text-align:left\" title=\"1\">1</td></tr><tr><td style=\"text-align:left\" title=\"55.0\">55.0</td><td style=\"text-align:left\" title=\"torso\">torso</td><td style=\"text-align:left\" title=\"malignant\">malignant</td><td style=\"text-align:left\" title=\"ISIC_0207268\">ISIC_0207268</td><td style=\"text-align:left\" title=\"male\">male</td><td style=\"text-align:left\" title=\"1\">1</td></tr><tr><td style=\"text-align:left\" title=\"65.0\">65.0</td><td style=\"text-align:left\" title=\"torso\">torso</td><td style=\"text-align:left\" title=\"malignant\">malignant</td><td style=\"text-align:left\" title=\"ISIC_0232101\">ISIC_0232101</td><td style=\"text-align:left\" title=\"male\">male</td><td style=\"text-align:left\" title=\"1\">1</td></tr><tr><td style=\"text-align:left\" title=\"65.0\">65.0</td><td style=\"text-align:left\" title=\"lower extremity\">lower extremity</td><td style=\"text-align:left\" title=\"malignant\">malignant</td><td style=\"text-align:left\" title=\"ISIC_0247330\">ISIC_0247330</td><td style=\"text-align:left\" title=\"female\">female</td><td style=\"text-align:left\" title=\"1\">1</td></tr></table></body></html>"
      ]
     },
     "execution_count": 28,
     "metadata": {},
     "output_type": "execute_result"
    }
   ],
   "source": [
    "dfMalignant.take(5)"
   ]
  }
 ],
 "metadata": {
  "kernelspec": {
   "display_name": "Kotlin",
   "language": "kotlin",
   "name": "kotlin"
  },
  "language_info": {
   "codemirror_mode": "text/x-kotlin",
   "file_extension": ".kt",
   "mimetype": "text/x-kotlin",
   "name": "kotlin",
   "pygments_lexer": "kotlin",
   "version": "1.4.20-dev-3647"
  }
 },
 "nbformat": 4,
 "nbformat_minor": 4
}
